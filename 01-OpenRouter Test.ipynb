{
 "cells": [
  {
   "cell_type": "code",
   "execution_count": 1,
   "id": "d1515e7d",
   "metadata": {},
   "outputs": [],
   "source": [
    "import os, getpass\n",
    "\n",
    "# Prompt for key if missing\n",
    "if not os.environ.get(\"OPENROUTER_API_KEY\"):\n",
    "    os.environ[\"OPENROUTER_API_KEY\"] = getpass.getpass(\"OPENROUTER_API_KEY: \")"
   ]
  },
  {
   "cell_type": "markdown",
   "id": "ec843d6c",
   "metadata": {},
   "source": [
    "## Call chat with ChatMessage List"
   ]
  },
  {
   "cell_type": "code",
   "execution_count": 2,
   "id": "a27ea275",
   "metadata": {},
   "outputs": [
    {
     "name": "stdout",
     "output_type": "stream",
     "text": [
      "assistant: Here's a classic one:\n",
      "\n",
      "Why don't scientists trust atoms?\n",
      "Because they make up everything! 😄\n"
     ]
    }
   ],
   "source": [
    "from llama_index.llms.openrouter import OpenRouter\n",
    "from llama_index.core.llms import ChatMessage\n",
    "\n",
    "llm = OpenRouter(\n",
    "    api_key=os.environ[\"OPENROUTER_API_KEY\"],\n",
    "    model=\"anthropic/claude-3.5-sonnet\",\n",
    ")\n",
    "\n",
    "message = ChatMessage(role=\"user\", content=\"Tell me a joke\")\n",
    "resp = llm.chat([message])\n",
    "print(resp)\n"
   ]
  },
  {
   "cell_type": "markdown",
   "id": "40e24239",
   "metadata": {},
   "source": [
    "## Streaming"
   ]
  },
  {
   "cell_type": "code",
   "execution_count": 3,
   "id": "0ce44ba5",
   "metadata": {},
   "outputs": [
    {
     "name": "stdout",
     "output_type": "stream",
     "text": [
      "Here's a 250-word story:\n",
      "\n",
      "The Last Letter\n",
      "\n",
      "Sarah stared at the dusty box she'd found in her grandmother's attic. Inside, dozens of letters were bundled together with faded blue ribbon, their edges worn and yellowed with age. She recognized her grandfather's handwriting on the envelopes – letters he'd written to her grandmother during the war.\n",
      "\n",
      "As she gently untied the ribbon, a single envelope fell into her lap. Unlike the others, it was sealed and had never been opened. The date on it was just three days before her grandfather's death in 1945.\n",
      "\n",
      "Sarah's hands trembled as she showed the letter to her grandmother, who sat in her favorite armchair by the window. \"I never knew this existed,\" her grandmother whispered, tears welling in her eyes.\n",
      "\n",
      "Together, they carefully opened the envelope. The paper crackled as her grandmother unfolded it, revealing her grandfather's elegant script:\n",
      "\n",
      "\"My dearest Elizabeth,\n",
      "If you're reading this, I didn't make it home. But I need you to know that every moment we shared was a gift. When things get dark, remember our dance in the garden the night before I left,"
     ]
    }
   ],
   "source": [
    "message = ChatMessage(role=\"user\", content=\"Tell me a story in 250 words\")\n",
    "resp = llm.stream_chat([message])\n",
    "for r in resp:\n",
    "    print(r.delta, end=\"\")\n"
   ]
  }
 ],
 "metadata": {
  "kernelspec": {
   "display_name": "Python 3",
   "language": "python",
   "name": "python3"
  },
  "language_info": {
   "codemirror_mode": {
    "name": "ipython",
    "version": 3
   },
   "file_extension": ".py",
   "mimetype": "text/x-python",
   "name": "python",
   "nbconvert_exporter": "python",
   "pygments_lexer": "ipython3",
   "version": "3.13.2"
  }
 },
 "nbformat": 4,
 "nbformat_minor": 5
}
