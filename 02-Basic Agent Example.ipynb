{
 "cells": [
  {
   "cell_type": "code",
   "execution_count": 1,
   "id": "d1515e7d",
   "metadata": {},
   "outputs": [],
   "source": [
    "import os, getpass\n",
    "\n",
    "# Prompt for key if missing\n",
    "if not os.environ.get(\"OPENROUTER_API_KEY\"):\n",
    "    os.environ[\"OPENROUTER_API_KEY\"] = getpass.getpass(\"OPENROUTER_API_KEY: \")"
   ]
  },
  {
   "cell_type": "markdown",
   "id": "ec843d6c",
   "metadata": {},
   "source": [
    "### Basic Agent Example"
   ]
  },
  {
   "cell_type": "code",
   "execution_count": 2,
   "id": "a27ea275",
   "metadata": {},
   "outputs": [
    {
     "name": "stdout",
     "output_type": "stream",
     "text": [
      "The result of 20+(2*4) is 28.\n"
     ]
    }
   ],
   "source": [
    "from llama_index.core.agent.workflow import FunctionAgent\n",
    "from llama_index.llms.openrouter import OpenRouter\n",
    "\n",
    "llm = OpenRouter(\n",
    "    api_key=os.environ[\"OPENROUTER_API_KEY\"],\n",
    "    model=\"anthropic/claude-3.5-sonnet\",\n",
    "    is_chat_model=True,\n",
    "    is_function_calling_model=True\n",
    ")\n",
    "\n",
    "def multiply(a: float, b: float) -> float:\n",
    "    \"\"\"Multiply two numbers and returns the product\"\"\"\n",
    "    return a * b\n",
    "\n",
    "\n",
    "def add(a: float, b: float) -> float:\n",
    "    \"\"\"Add two numbers and returns the sum\"\"\"\n",
    "    return a + b\n",
    "\n",
    "\n",
    "# Create an agent workflow with our calculator tool\n",
    "agent = FunctionAgent(\n",
    "    tools=[multiply, add],\n",
    "    llm=llm,\n",
    "    system_prompt=\"You are an agent that can perform basic mathematical operations using tools.\",\n",
    ")\n",
    "\n",
    "\n",
    "response = await agent.run(\"What is 20+(2*4)?\")\n",
    "print(str(response))"
   ]
  },
  {
   "cell_type": "markdown",
   "id": "df8d6006",
   "metadata": {},
   "source": [
    "### Using an existing tool from LlamaHub\n",
    "\n",
    "LlamaHub from LlamaIndex has hundreds of integrations, including dozens of existing agent tools that you can use right away. We'll show you how to use one of the existing tools, and also how to build and contribute your own.\n",
    "\n",
    "https://llamahub.ai/\n",
    "\n",
    "https://llamahub.ai/?tab=tools\n",
    "\n",
    "For our example, we're going to use the Yahoo Finance tool from LlamaHub. It provides a set of six agent tools that look up a variety of information about stock ticker symbols.\n"
   ]
  },
  {
   "cell_type": "code",
   "execution_count": 3,
   "id": "5277e0ef",
   "metadata": {},
   "outputs": [
    {
     "name": "stdout",
     "output_type": "stream",
     "text": [
      "Based on the information received, NVIDIA (NVDA)'s current stock price is $173.50. The stock closed with a slight decrease of -0.24 points (-0.14%) from its previous close of $173.74. The day's trading range was between $172.965 (low) and $174.72 (high).\n"
     ]
    }
   ],
   "source": [
    "from llama_index.tools.yahoo_finance import YahooFinanceToolSpec\n",
    "\n",
    "finance_tools = YahooFinanceToolSpec().to_tool_list()\n",
    "finance_tools.extend([multiply, add])\n",
    "\n",
    "agent = FunctionAgent(\n",
    "    tools=finance_tools,\n",
    "    llm=llm,\n",
    "    system_prompt=\"You are a helpful assistant.\",\n",
    ")\n",
    "\n",
    "response = await agent.run(\"What's the current stock price of NVIDIA?\")\n",
    "print(str(response))"
   ]
  }
 ],
 "metadata": {
  "kernelspec": {
   "display_name": "Python 3",
   "language": "python",
   "name": "python3"
  },
  "language_info": {
   "codemirror_mode": {
    "name": "ipython",
    "version": 3
   },
   "file_extension": ".py",
   "mimetype": "text/x-python",
   "name": "python",
   "nbconvert_exporter": "python",
   "pygments_lexer": "ipython3",
   "version": "3.13.2"
  }
 },
 "nbformat": 4,
 "nbformat_minor": 5
}
