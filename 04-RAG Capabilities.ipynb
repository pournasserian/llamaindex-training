{
 "cells": [
  {
   "cell_type": "code",
   "execution_count": 1,
   "id": "d1515e7d",
   "metadata": {},
   "outputs": [],
   "source": [
    "import os, getpass\n",
    "\n",
    "# Prompt for key if missing\n",
    "if not os.environ.get(\"OPENROUTER_API_KEY\"):\n",
    "    os.environ[\"OPENROUTER_API_KEY\"] = getpass.getpass(\"OPENROUTER_API_KEY: \")"
   ]
  },
  {
   "cell_type": "markdown",
   "id": "cffc96d3",
   "metadata": {},
   "source": [
    "### Adding RAG Capabilities"
   ]
  },
  {
   "cell_type": "code",
   "execution_count": 2,
   "id": "15ee20b6",
   "metadata": {},
   "outputs": [
    {
     "data": {
      "application/vnd.jupyter.widget-view+json": {
       "model_id": "854e3b87a2cf459ca3a3d201f9d2ff19",
       "version_major": 2,
       "version_minor": 0
      },
      "text/plain": [
       "Parsing nodes:   0%|          | 0/1 [00:00<?, ?it/s]"
      ]
     },
     "metadata": {},
     "output_type": "display_data"
    },
    {
     "data": {
      "application/vnd.jupyter.widget-view+json": {
       "model_id": "13ae125456304f7abf85d1367da91a99",
       "version_major": 2,
       "version_minor": 0
      },
      "text/plain": [
       "Generating embeddings:   0%|          | 0/22 [00:00<?, ?it/s]"
      ]
     },
     "metadata": {},
     "output_type": "display_data"
    },
    {
     "name": "stdout",
     "output_type": "stream",
     "text": [
      "To answer your questions:\n",
      "\n",
      "1. In college, the author (Paul Graham):\n",
      "- Initially studied philosophy, hoping to learn \"ultimate truths\"\n",
      "- Found philosophy disappointing and switched to AI\n",
      "- Was influenced by \"The Moon is a Harsh Mistress\" and a PBS documentary about SHRDLU\n",
      "- Later pursued a PhD in computer science\n",
      "- Completed his dissertation on applications of continuations in about 5 weeks\n",
      "- Was also interested in art and Lisp programming during this time\n",
      "\n",
      "2. 7 * 8 = 56\n"
     ]
    }
   ],
   "source": [
    "from llama_index.llms.openrouter import OpenRouter\n",
    "from llama_index.core import VectorStoreIndex, SimpleDirectoryReader, Settings\n",
    "from llama_index.core.agent.workflow import AgentWorkflow\n",
    "from llama_index.embeddings.huggingface import HuggingFaceEmbedding\n",
    "\n",
    "# Create an LLM instance using OpenRouter\n",
    "llm = OpenRouter(\n",
    "    api_key=os.environ[\"OPENROUTER_API_KEY\"],\n",
    "    model=\"anthropic/claude-3.5-sonnet\",\n",
    "    is_chat_model=True,\n",
    "    is_function_calling_model=True\n",
    ")\n",
    "\n",
    "# Settings control global defaults\n",
    "Settings.embed_model = HuggingFaceEmbedding(model_name=\"BAAI/bge-base-en-v1.5\")\n",
    "Settings.llm = llm\n",
    "\n",
    "# Create a RAG tool using LlamaIndex\n",
    "# Load documents from a directory\n",
    "# Ensure you have a directory named \"data\" with text files to read\n",
    "documents = SimpleDirectoryReader(\"data\").load_data()\n",
    "\n",
    "index = VectorStoreIndex.from_documents(\n",
    "    documents,\n",
    "    show_progress=True,\n",
    "    # we can optionally override the embed_model here\n",
    "    # embed_model=Settings.embed_model,\n",
    ")\n",
    "query_engine = index.as_query_engine(\n",
    "    # we can optionally override the llm here\n",
    "    # llm=Settings.llm,\n",
    ")\n",
    "\n",
    "def multiply(a: float, b: float) -> float:\n",
    "    \"\"\"Useful for multiplying two numbers.\"\"\"\n",
    "    return a * b\n",
    "\n",
    "\n",
    "async def search_documents(query: str) -> str:\n",
    "    \"\"\"Useful for answering natural language questions about an personal essay written by Paul Graham.\"\"\"\n",
    "    response = await query_engine.aquery(query)\n",
    "    return str(response)\n",
    "\n",
    "\n",
    "# Create an enhanced workflow with both tools\n",
    "agent = AgentWorkflow.from_tools_or_functions(\n",
    "    [multiply, search_documents],\n",
    "    llm=Settings.llm,\n",
    "    system_prompt=\"\"\"You are a helpful assistant that can perform calculations\n",
    "    and search through documents to answer questions.\"\"\",\n",
    ")\n",
    "\n",
    "\n",
    "# Now we can ask questions about the documents or do calculations\n",
    "response = await agent.run(\"What did the author do in college? Also, what's 7 * 8?\")\n",
    "print(response)"
   ]
  },
  {
   "cell_type": "markdown",
   "id": "2a014eaf",
   "metadata": {},
   "source": [
    "### Storing the RAG Index"
   ]
  },
  {
   "cell_type": "code",
   "execution_count": 3,
   "id": "06d07fa1",
   "metadata": {},
   "outputs": [],
   "source": [
    "# Save the index\n",
    "index.storage_context.persist(\"storage\")"
   ]
  }
 ],
 "metadata": {
  "kernelspec": {
   "display_name": "Python 3",
   "language": "python",
   "name": "python3"
  },
  "language_info": {
   "codemirror_mode": {
    "name": "ipython",
    "version": 3
   },
   "file_extension": ".py",
   "mimetype": "text/x-python",
   "name": "python",
   "nbconvert_exporter": "python",
   "pygments_lexer": "ipython3",
   "version": "3.13.2"
  }
 },
 "nbformat": 4,
 "nbformat_minor": 5
}
