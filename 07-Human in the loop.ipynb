{
 "cells": [
  {
   "cell_type": "markdown",
   "id": "141d8cf9",
   "metadata": {},
   "source": [
    "### Human in the loop"
   ]
  },
  {
   "cell_type": "code",
   "execution_count": 1,
   "id": "56850116",
   "metadata": {},
   "outputs": [],
   "source": [
    "from helpers import llm\n",
    "from llama_index.core.agent.workflow import AgentWorkflow\n",
    "from llama_index.core.workflow import Context\n",
    "from llama_index.core.workflow import InputRequiredEvent, HumanResponseEvent\n",
    "\n",
    "# a tool that performs a dangerous task\n",
    "async def dangerous_task(ctx: Context) -> str:\n",
    "    \"\"\"A dangerous task that requires human confirmation.\"\"\"\n",
    "\n",
    "    # emit an event to the external stream to be captured\n",
    "    ctx.write_event_to_stream(\n",
    "        InputRequiredEvent(\n",
    "            prefix=\"Are you sure you want to proceed? \",\n",
    "            user_name=\"Laurie\",\n",
    "        )\n",
    "    )\n",
    "\n",
    "    # wait until we see a HumanResponseEvent\n",
    "    response = await ctx.wait_for_event(\n",
    "        HumanResponseEvent, requirements={\"user_name\": \"Laurie\"}\n",
    "    )\n",
    "\n",
    "    # act on the input from the event\n",
    "    if response.response.strip().lower() == \"yes\":\n",
    "        return \"Dangerous task completed successfully.\"\n",
    "    else:\n",
    "        return \"Dangerous task aborted.\"\n",
    "\n",
    "workflow = AgentWorkflow.from_tools_or_functions(\n",
    "    [dangerous_task],\n",
    "    llm=llm,\n",
    "    system_prompt=\"You are a helpful assistant that can perform dangerous tasks.\",\n",
    ")\n",
    "async def main():\n",
    "    handler = workflow.run(user_msg=\"I want to proceed with the dangerous task.\")\n",
    "\n",
    "    async for event in handler.stream_events():\n",
    "        # capture InputRequiredEvent\n",
    "        if isinstance(event, InputRequiredEvent):\n",
    "            # capture keyboard input\n",
    "            response = input(event.prefix)\n",
    "            # send our response back\n",
    "            handler.ctx.send_event(\n",
    "                HumanResponseEvent(\n",
    "                    response=response,\n",
    "                    user_name=event.user_name,\n",
    "                )\n",
    "            )\n",
    "\n",
    "    response = await handler\n",
    "    print(str(response))\n",
    "\n"
   ]
  },
  {
   "cell_type": "code",
   "execution_count": 3,
   "id": "82039771",
   "metadata": {},
   "outputs": [
    {
     "name": "stdout",
     "output_type": "stream",
     "text": [
      "The dangerous task has been completed successfully. Is there anything else you need assistance with?\n"
     ]
    }
   ],
   "source": [
    "await main()"
   ]
  }
 ],
 "metadata": {
  "kernelspec": {
   "display_name": "Python 3",
   "language": "python",
   "name": "python3"
  },
  "language_info": {
   "codemirror_mode": {
    "name": "ipython",
    "version": 3
   },
   "file_extension": ".py",
   "mimetype": "text/x-python",
   "name": "python",
   "nbconvert_exporter": "python",
   "pygments_lexer": "ipython3",
   "version": "3.13.2"
  }
 },
 "nbformat": 4,
 "nbformat_minor": 5
}
